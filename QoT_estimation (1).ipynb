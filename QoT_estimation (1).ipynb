{
  "nbformat": 4,
  "nbformat_minor": 0,
  "metadata": {
    "colab": {
      "provenance": []
    },
    "kernelspec": {
      "name": "python3",
      "display_name": "Python 3"
    },
    "language_info": {
      "name": "python"
    }
  },
  "cells": [
    {
      "cell_type": "code",
      "execution_count": null,
      "metadata": {
        "id": "xkDsUOjdLlyg"
      },
      "outputs": [],
      "source": [
        "import numpy as np\n",
        "import os\n",
        "import matplotlib.pyplot as plt\n",
        "import time\n",
        "import random\n",
        "\n",
        "from sklearn.neural_network import MLPRegressor\n",
        "from sklearn.linear_model import LinearRegression\n",
        "from sklearn.model_selection import train_test_split #, KFold\n",
        "from sklearn.preprocessing import StandardScaler\n",
        "from sklearn.metrics import max_error, mean_squared_error\n",
        "from sklearn.model_selection import learning_curve"
      ]
    },
    {
      "cell_type": "code",
      "source": [
        "def read_dataset(filename):\n",
        "# Input:    - filename: name of data file (it may even include the entire path in case it is in a subfolder)\n",
        "# Outputs:  The function should return:\n",
        "#           1. List with spans lengths for all the lightpaths (each element of the list corresponds to one lightpath\n",
        "#              and is itself a list of variable len(), depending on the number of spans for that lightpath)\n",
        "#           2. List with interferer info for all the lightpaths (each element of the list corresponds to one lightpath\n",
        "#              and is itself a list with len()=2). For each lightpath, the list should include:\n",
        "#               2.1. maximum number of interferers across the links of the path, and\n",
        "#               2.2. distance to the closest intereferer across the links of the path [GHz]\n",
        "#           3. List of SNR values for each lightpath [dB]\n",
        "\n",
        "    #F: initialization. The followings are the elements that the function will return as outputs\n",
        "\n",
        "    span_length_matrix = [] #F: list for span lengths (in km) along the path\n",
        "\n",
        "    interferer_matrix = [] #F: list for the number of interferes and the spectrum distance to the closest interferer\n",
        "\n",
        "    SNR_vect = [] #F: list for SNR values (dB) at the receiver\n",
        "\n",
        "    with open(filename) as data_file:\n",
        "\n",
        "        for line in data_file: #F: line will scan through each lightpath\n",
        "        ############# ADD YOUR CODE BELOW #############\n",
        "\n",
        "            elements = line.split(';', 4) #F: in the dataset the various characteristics are separated by a ; for each lightpath\n",
        "\n",
        "            spans = elements[0]\n",
        "            spans_list = spans.split(' ') #F: list of spans length for the considered lightpath (items in spans_list are strings)\n",
        "\n",
        "            #F: obtain list where each element is the list of span length for a lightpath\n",
        "            span_lengths_vect = []\n",
        "            for span_len in spans_list:\n",
        "                span_lengths_vect.append(int(span_len)) #F: (items in span_lengths_vect are now int)\n",
        "            #F: the for loop above can be substituted by span_lengths_vect = [int(spans_list[i]) for i in range(len(spans_list))]\n",
        "\n",
        "            span_length_matrix.append(span_lengths_vect)\n",
        "\n",
        "            num_interf = int(elements[1]) #F: number of interferers for the considered lightpath\n",
        "            delta_f = float(elements[2]) #F: frequency distance of the closest interferers for the considered lightpath\n",
        "            interferer_matrix.append([num_interf, delta_f])\n",
        "\n",
        "            snr = float(elements[3]) #F: SNR at the receiver for the considered lightpath\n",
        "            SNR_vect.append(snr)\n",
        "\n",
        "        #################################################################\n",
        "\n",
        "    return span_length_matrix, interferer_matrix, SNR_vect"
      ],
      "metadata": {
        "id": "L5glm8NPLrID"
      },
      "execution_count": null,
      "outputs": []
    },
    {
      "cell_type": "code",
      "source": [
        "def SNR_to_MF(SNR):\n",
        "# Input:    - SNR: SNR value (predicted or ground truth) used to decide modulation format\n",
        "# Output:   - order of the highest configurable MF; return a number corresponding to the MF\n",
        "#             4 (QPSK), 8 (8QAM), 16 (16QAM), 32 (32QAM), 64 (64QAM)\n",
        "\n",
        "# < and > instead of <= and >=, as SNR is a float and floats cannot be compared with equality\n",
        "    if SNR < 11:\n",
        "        return 0\n",
        "\n",
        "    elif SNR > 11 and SNR < 15:\n",
        "        return 4\n",
        "\n",
        "    elif SNR > 15 and SNR < 18:\n",
        "        return 8\n",
        "\n",
        "    elif SNR > 18 and SNR < 20.8:\n",
        "        return 16\n",
        "\n",
        "    elif SNR > 20.8 and SNR < 23.7:\n",
        "        return 32\n",
        "\n",
        "    else:\n",
        "        return 64"
      ],
      "metadata": {
        "id": "e4GNq8KRZVqH"
      },
      "execution_count": null,
      "outputs": []
    },
    {
      "cell_type": "code",
      "source": [
        "def find_minimal_margin(SNR_true_vect, SNR_pred_vect):\n",
        "# Input:    - SNR_true_vect: ground truth SNR values\n",
        "#           - SNR_pred_vect: predicted SNR values\n",
        "# Output:   - minimal margin M (dB) that should be subtracted from the predicted SNR,\n",
        "#             so that MF configured based on (predicted SNR - Margin) will not exceed\n",
        "#             the one set based on the true SNR to avoid disruptions\n",
        "    margin = 0\n",
        "    margin_step = 0.1\n",
        "    for i in range(100):\n",
        "      disruption_flag = False\n",
        "      for SNR_true, SNR_pred in zip (SNR_true_vect, SNR_pred_vect):\n",
        "        MF_true = SNR_to_MF(SNR_true)\n",
        "        MF_pred = SNR_to_MF(SNR_pred-margin)\n",
        "\n",
        "        if MF_pred > MF_true:\n",
        "          disruption_flag = True\n",
        "          break\n",
        "\n",
        "      if disruption_flag == False:\n",
        "        return margin\n",
        "      else:\n",
        "        margin += margin_step\n",
        "\n",
        "    return margin"
      ],
      "metadata": {
        "id": "EdH1tx0-ZVgb"
      },
      "execution_count": null,
      "outputs": []
    },
    {
      "cell_type": "code",
      "source": [
        "def spliter(X,y):\n",
        "  X_train, X_test, y_train, y_test = train_test_split( X, y, test_size=0.2, random_state=42)\n",
        "  scaler = StandardScaler()\n",
        "  X_train = scaler.fit_transform(X_train)\n",
        "  X_test = scaler.transform(X_test)\n",
        "\n",
        "  return X_train, X_test, y_train, y_test"
      ],
      "metadata": {
        "id": "rLi9ZBTrVwe7"
      },
      "execution_count": null,
      "outputs": []
    },
    {
      "cell_type": "code",
      "source": [
        "def perf_eval(y_true, y_pred):\n",
        "# Inputs:    - y_true: test set ground truth SNR values\n",
        "#            - y_pred: predicted SNR values\n",
        "# This function should: 1) print mean squared error (MSE) and maximum error of SNR\n",
        "#                       2) calculate and print the minimum SNR margin required to avoid disruptions\n",
        "#                       3) calculate and plot (as bar graph) the distribution of errors (use 0.1 error bins)\n",
        "#                       4) print the distribution of errors in output in the\n",
        "#                          following form: 'errorvalue [dB]: n times' (e.g., '0.5 [dB]: 3 times')\n",
        "\n",
        "    error_dict = {} #F: this dictionary will host the distribution of errors,\n",
        "                    #   e.g., {-0.3: 9,..., 0.5: 3, ...}, means that\n",
        "                    #   error -0.3 dB is done 9 times, error 0.5 3 times etc.\n",
        "\n",
        "    ############# ADD YOUR CODE BELOW #############\n",
        "    min_margin_dB = round(find_minimal_margin(y_true, y_pred), 2)\n",
        "\n",
        "    for SNR_dB_true, SNR_dB_pred in zip(y_true, y_pred):\n",
        "      err = round(SNR_dB_true - SNR_dB_pred, 1)\n",
        "\n",
        "      if err in error_dict:\n",
        "         error_dict[err] += 1\n",
        "      else:\n",
        "        error_dict[err] = 1\n",
        "\n",
        "      error_list = sorted(error_dict.items(), key=lambda x:x[0])\n",
        "\n",
        "\n",
        "    #################################################################\n",
        "    plt.bar(list(error_dict.keys()), error_dict.values(), color='g', width = 0.07)\n",
        "    plt.xlabel('Error value, dB')\n",
        "    plt.ylabel('Samples')\n",
        "    plt.title('SNR estimation error distribution')\n",
        "    plt.tight_layout()\n",
        "    plt.show()"
      ],
      "metadata": {
        "id": "3ZNIMm0kZ6in"
      },
      "execution_count": null,
      "outputs": []
    },
    {
      "cell_type": "code",
      "source": [
        "def train_NN(X_tr, y_tr, activ, neur, lyrs, solv_name = 'adam'):\n",
        "# Inputs:    - X_tr: training set (features)\n",
        "#            - y_tr: training set (output values)\n",
        "#            - activ: activation function for the DNN hidden layers\n",
        "#            - neur: number of neurons per layer (in the hidden layers) - each layer has the same no. of neurons\n",
        "#            - lyrs: number of hidden layers\n",
        "#            - solv_name: solver to be used during training (default = 'adam')\n",
        "# Output:    Return:\n",
        "#               1) fitted model,\n",
        "#               2) training duration\n",
        "#\n",
        "#            The function should also:\n",
        "#                a) Print the following statistics:\n",
        "#                     * number of training iterations\n",
        "#                     * final loss\n",
        "#                     * best loss during training\n",
        "#                     * training duration\n",
        "#                     * training MSE\n",
        "#                     * training R2 score\n",
        "#                b) Plot learning curve (= loss vs epochs/iterations)\n",
        "  print('Training a NN...')\n",
        "\n",
        "  size = (neur,)*lyrs\n",
        "  model = MLPRegressor(hidden_layer_sizes=size, activation=activ, solver=solv_name, learning_rate='invscaling', max_iter=5000, random_state=42, verbose=False)\n",
        "\n",
        "  t0 = time.time()\n",
        "\n",
        "  model.fit(X_tr, y_tr)\n",
        "\n",
        "  t1 = time.time()\n",
        "  training_time = round((t1-t0), 2)\n",
        "\n",
        "  loss = model.loss_\n",
        "  print('Loss:',loss)\n",
        "\n",
        "  yhat = model.predict(X_tr)\n",
        "  mse = mean_squared_error(y_tr, yhat)\n",
        "  print('mse:',mse)\n",
        "\n",
        "  r2 = model.score(X_tr, y_tr)\n",
        "  print('r2:', str(r2))\n",
        "\n",
        "  print('total # of iteration:', str(model.n_iter_))\n",
        "  print('Best Loss:', str(model.best_loss_))\n",
        "  print('Train duration:', training_time)\n",
        "\n",
        "\n",
        "\n",
        "\n",
        "  return model, training_time"
      ],
      "metadata": {
        "id": "vuR-E0vtWE-N"
      },
      "execution_count": null,
      "outputs": []
    },
    {
      "cell_type": "markdown",
      "source": [
        "**Task 7a)**"
      ],
      "metadata": {
        "id": "hrLAyY4sWbo3"
      }
    },
    {
      "cell_type": "code",
      "source": [
        "def extract_UNCERTAIN_features(span_matrix, interferer_matrix, span_length_std = 0):\n",
        "# Inputs:    - span_matrix: matrix (list) of spans for each lightpath as returned by function read_dataset()\n",
        "#            - interferer_matrix: matrix (list) of interferers info (number of interferers and Delta-f) as returned by function read_dataset()\n",
        "#            - span_length_std: std dev of the normal distribution used to generate error in the span length\n",
        "# Output:    - numpy array X_matrix  with the following features (one row for each lightpath):\n",
        "#                1) Number of fiber spans along the path\n",
        "#                2) Total lightpath length\n",
        "#                3) Longest fiber span length (between 2 amplifiers)\n",
        "#                4) Maximum number of interferers across all the links traversed\n",
        "#                5) Frequency distance from the closest interferer across all the links traversed\n",
        "    X_matrix = [] #F: name of the numpy array to return\n",
        "\n",
        "    #span_matrix_copy = span_matrix.copy()\n",
        "    #print(type(span_matrix[0][0]))\n",
        "\n",
        "    # take one lightpath (vector of span length and information on the interferers)\n",
        "    for span_len_vect, interferer_vect in zip(span_matrix, interferer_matrix):\n",
        "\n",
        "        for i in range(0,len(span_len_vect)):\n",
        "\n",
        "          #span_len_vect[i] += random.gauss(0, (span_len_vect[i]*span_length_std))\n",
        "          span_len_vect[i] += random.gauss(0, span_length_std)\n",
        "\n",
        "\n",
        "        feature_vect = []\n",
        "\n",
        "        feature_vect.append(len(span_len_vect))\n",
        "        feature_vect.append(sum(span_len_vect))\n",
        "        feature_vect.append(max(span_len_vect))\n",
        "\n",
        "        feature_vect.append(interferer_vect[0])\n",
        "        feature_vect.append(interferer_vect[1])\n",
        "\n",
        "        X_matrix.append(feature_vect)\n",
        "\n",
        "    return np.array(X_matrix)"
      ],
      "metadata": {
        "id": "HWrF_cL6Lwum"
      },
      "execution_count": null,
      "outputs": []
    },
    {
      "cell_type": "markdown",
      "source": [
        "**Task 7b)**"
      ],
      "metadata": {
        "id": "4-WNvo2gWTup"
      }
    },
    {
      "cell_type": "code",
      "source": [
        "\n",
        "\n",
        "percentage = [0.05,0.1,0.15]\n",
        "#span_length_std = max_span_len * percentage\n",
        "#print(span_length_std)\n",
        "\n",
        "for per in percentage:\n",
        "  new_datafile = 'SNR_dataset_0.25dB_per_km.txt'\n",
        "\n",
        "  #F: Task 1b)\n",
        "  new_spans, new_interferers, new_snr_values = read_dataset(new_datafile)\n",
        "\n",
        "  new_y = np.array(new_snr_values)\n",
        "  ############# ADD YOUR CODE BELOW #############\n",
        "  max_span_len = -1\n",
        "  for i in range(len(new_spans)):\n",
        "      if max(new_spans[i]) > max_span_len:\n",
        "        max_span_len = max(new_spans[i])\n",
        "\n",
        "  print(\"error percentage is:\", per)\n",
        "  span_length_std = max_span_len * per\n",
        "  X = extract_UNCERTAIN_features(new_spans, new_interferers, span_length_std)\n",
        "\n",
        "  #test_train_func\n",
        "  activation = 'logistic'\n",
        "  neurons = 10\n",
        "  layers = 2\n",
        "  #solvers = ['sgd', 'adam']\n",
        "\n",
        "  y = np.array(new_snr_values) #F: y is the array of outputs (labels) in our dataset; np.array() is needed to work with arrays instead of lists\n",
        "  X_train, X_test, y_train, y_test = spliter(X,y)\n",
        "\n",
        "  NNregr, train_duration = train_NN(X_train, y_train, activation, neurons, layers, 'adam')\n",
        "  y_predicted = NNregr.predict(X_test)\n",
        "  perf_eval(y_predicted,y_test)\n"
      ],
      "metadata": {
        "colab": {
          "base_uri": "https://localhost:8080/",
          "height": 1000
        },
        "id": "IX4jNJvNL6xF",
        "outputId": "dc2acfe5-0c20-460b-e752-33b3e977db99"
      },
      "execution_count": null,
      "outputs": [
        {
          "output_type": "stream",
          "name": "stdout",
          "text": [
            "error percentage is: 0.05\n",
            "Training a NN...\n",
            "Loss: 0.06489904496772407\n",
            "mse: 0.12956874814077413\n",
            "r2: 0.9709441853924041\n",
            "total # of iteration: 1701\n",
            "Best Loss: 0.06489904496772407\n",
            "Train duration: 9.46\n"
          ]
        },
        {
          "output_type": "display_data",
          "data": {
            "text/plain": [
              "<Figure size 640x480 with 1 Axes>"
            ],
            "image/png": "[encoded data removed]"
          },
          "metadata": {}
        },
        {
          "output_type": "stream",
          "name": "stdout",
          "text": [
            "error percentage is: 0.1\n",
            "Training a NN...\n",
            "Loss: 0.06656584283099351\n",
            "mse: 0.13288489580698573\n",
            "r2: 0.9702005386937714\n",
            "total # of iteration: 1744\n",
            "Best Loss: 0.06656584283099351\n",
            "Train duration: 3.31\n"
          ]
        },
        {
          "output_type": "display_data",
          "data": {
            "text/plain": [
              "<Figure size 640x480 with 1 Axes>"
            ],
            "image/png": "[encoded data removed]"
          },
          "metadata": {}
        },
        {
          "output_type": "stream",
          "name": "stdout",
          "text": [
            "error percentage is: 0.15\n",
            "Training a NN...\n",
            "Loss: 0.07134477113296422\n",
            "mse: 0.1424115414811709\n",
            "r2: 0.9680641867222247\n",
            "total # of iteration: 1829\n",
            "Best Loss: 0.07134477113296422\n",
            "Train duration: 3.51\n"
          ]
        },
        {
          "output_type": "display_data",
          "data": {
            "text/plain": [
              "<Figure size 640x480 with 1 Axes>"
            ],
            "image/png": "[encoded data removed]"
          },
          "metadata": {}
        }
      ]
    }
  ]
}